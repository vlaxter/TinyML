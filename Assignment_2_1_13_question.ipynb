{
  "nbformat": 4,
  "nbformat_minor": 0,
  "metadata": {
    "colab": {
      "name": "Assignment-2-1-13-question.ipynb",
      "provenance": [],
      "include_colab_link": true
    },
    "kernelspec": {
      "display_name": "Python 3",
      "language": "python",
      "name": "python3"
    },
    "language_info": {
      "codemirror_mode": {
        "name": "ipython",
        "version": 3
      },
      "file_extension": ".py",
      "mimetype": "text/x-python",
      "name": "python",
      "nbconvert_exporter": "python",
      "pygments_lexer": "ipython3",
      "version": "3.6.9"
    }
  },
  "cells": [
    {
      "cell_type": "markdown",
      "metadata": {
        "id": "view-in-github",
        "colab_type": "text"
      },
      "source": [
        "<a href=\"https://colab.research.google.com/github/vlaxter/TinyML/blob/main/Assignment_2_1_13_question.ipynb\" target=\"_parent\"><img src=\"https://colab.research.google.com/assets/colab-badge.svg\" alt=\"Open In Colab\"/></a>"
      ]
    },
    {
      "cell_type": "markdown",
      "metadata": {
        "id": "Ch0gJr_YDlZD"
      },
      "source": [
        "# Your first assignment\n",
        "\n",
        "In this assignment you will design your own linear regression model using TensorFlow. If you are taking the course for a certificate during the end of section test you will be asked questions about this assignment.\n",
        "\n",
        "We start by setting up the problem for you."
      ]
    },
    {
      "cell_type": "code",
      "metadata": {
        "id": "eJEpdsvsGaqD"
      },
      "source": [
        "# DO NOT CHANGE THIS CELL\n",
        "\n",
        "# We first import TensorFlow and other libraries\n",
        "import tensorflow as tf\n",
        "import numpy as np\n",
        "from tensorflow.keras import Sequential\n",
        "from tensorflow.keras.layers import Dense\n",
        "import matplotlib.pyplot as plt\n",
        "\n",
        "# We then set up some functions and local variables\n",
        "predictions = []\n",
        "class myCallback(tf.keras.callbacks.Callback):\n",
        "  def on_epoch_end(self, epoch, logs={}):\n",
        "    predictions.append(model.predict(xs))\n",
        "callbacks = myCallback()\n",
        "\n",
        "# We then define the xs (inputs) and ys (outputs)\n",
        "xs = np.array([-1.0, 0.0, 1.0, 2.0, 3.0, 4.0], dtype=float)\n",
        "ys = np.array([-3.0, -1.0, 1.0, 3.0, 5.0, 7.0], dtype=float)"
      ],
      "execution_count": null,
      "outputs": []
    },
    {
      "cell_type": "markdown",
      "metadata": {
        "id": "FeHQOGMrDlZE"
      },
      "source": [
        "Please fill out the cell below to define your model and compile it.\n",
        "\n",
        "*A hint: your model may want to learn the average error over the dataset.*"
      ]
    },
    {
      "cell_type": "code",
      "metadata": {
        "id": "KnhHuinUDlZE"
      },
      "source": [
        "# PLEASE COMPELTE THIS CELL\n",
        "\n",
        "SHAPE = #YOUR CODE HERE#\n",
        "LOSS = #YOUR CODE HERE#\n",
        "\n",
        "# Define your model type\n",
        "model = Sequential([Dense(units=1, input_shape=SHAPE)])\n",
        "    \n",
        "# Compile your model with choice of optimizer and loss function\n",
        "model.compile(optimizer='sgd', loss=LOSS)"
      ],
      "execution_count": null,
      "outputs": []
    },
    {
      "cell_type": "markdown",
      "metadata": {
        "id": "AMDX52XKDlZE"
      },
      "source": [
        "We then include the call to fit your model to the data."
      ]
    },
    {
      "cell_type": "code",
      "metadata": {
        "id": "1uB_We1yDlZE"
      },
      "source": [
        "# DO NOT CHANGE THIS CELL\n",
        "\n",
        "# We then fit the model\n",
        "model.fit(xs, ys, epochs=300, callbacks=[callbacks], verbose=2)"
      ],
      "execution_count": null,
      "outputs": []
    },
    {
      "cell_type": "markdown",
      "metadata": {
        "id": "34ndsIEaDlZE"
      },
      "source": [
        "We then plot the resulting prediction at EPOCH_NUMBERS = 1,25,50,150,300. If you'd like to see other Epochs simply update the EPOCH_NUMBERS variable and re-run the cell!"
      ]
    },
    {
      "cell_type": "code",
      "metadata": {
        "id": "9NSFY8oQbNlD"
      },
      "source": [
        "EPOCH_NUMBERS=[1,25,50,150,300] # Update me to see other Epochs\n",
        "plt.plot(ys,label = \"Ys\")\n",
        "for EPOCH in EPOCH_NUMBERS:\n",
        "    plt.plot(predictions[EPOCH-1],label = \"Epoch = \" + str(EPOCH))\n",
        "plt.legend()\n",
        "plt.show()"
      ],
      "execution_count": null,
      "outputs": []
    }
  ]
}